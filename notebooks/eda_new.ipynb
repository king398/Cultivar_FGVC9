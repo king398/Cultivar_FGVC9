{
 "cells": [
  {
   "cell_type": "code",
   "execution_count": null,
   "outputs": [],
   "source": [
    "import matplotlib.pyplot as plt\n",
    "import pandas as pd\n",
    "import os\n",
    "import cv2\n",
    "import numpy as np\n",
    "from pytorch_grad_cam import GradCAM\n",
    "from pytorch_grad_cam.utils.image import show_cam_on_image\n",
    "import torch\n",
    "import yaml\n",
    "from torch import nn\n",
    "import timm\n",
    "from albumentations.pytorch.transforms import ToTensorV2\n",
    "import albumentations as A\n",
    "\n",
    "\"\"\"\n",
    "    This script is used to generate the Grad-CAMPlusPlus visualization for the images which our model errors on the train dataset .\n",
    "\"\"\"\n",
    "\n",
    "\n",
    "class BaseModelEffNet(nn.Module):\n",
    "\n",
    "    def __init__(self, cfg):\n",
    "        super().__init__()\n",
    "        self.cfg = cfg\n",
    "        self.model = timm.create_model(self.cfg['model'], pretrained=self.cfg['pretrained'],\n",
    "                                       in_chans=self.cfg['in_channels'],\n",
    "                                       num_classes=100)\n",
    "        n_features = self.model.classifier.in_features\n",
    "        self.model.head = nn.Linear(n_features, cfg['target_size'])\n",
    "\n",
    "    def forward(self, x):\n",
    "        output = self.model(x)\n",
    "\n",
    "        return output\n",
    "\n",
    "\n",
    "cfg = yaml.safe_load(open('/home/mithil/PycharmProjects/Cultivar_FGVC9/cfg/tf_efficientnet_b4_ns_inference.yaml', \"r\"))\n",
    "\n",
    "\n",
    "def return_filpath(name, folder):\n",
    "    \"\"\"\n",
    "    This function is used to return the file path of the image.\n",
    "    :param name:\n",
    "    :param folder:\n",
    "    :return:\n",
    "    \"\"\"\n",
    "    path = os.path.join(folder, f'{name}')\n",
    "    return path\n",
    "\n",
    "\n",
    "def search_layer(module, layer_type, reverse=True):\n",
    "    \"\"\"\n",
    "    This function is used to search the layer in the model.\n",
    "    :param module:\n",
    "    :param layer_type:\n",
    "    :param reverse:\n",
    "    :return:\n",
    "    \"\"\"\n",
    "    if isinstance(module, layer_type):\n",
    "        return module\n",
    "\n",
    "    if not hasattr(module, 'children'):\n",
    "        return None\n",
    "\n",
    "    children = list(module.children())\n",
    "    if reverse:\n",
    "        children = reversed(children)\n",
    "    # search for the first occurence recursively\n",
    "    for child in children:\n",
    "        res = search_layer(child, layer_type)\n",
    "        if res:\n",
    "            return res\n",
    "    return None\n",
    "\n",
    "\n",
    "def get_test_transforms(DIM=512):\n",
    "    return A.Compose(\n",
    "        [\n",
    "            A.Resize(DIM, DIM),\n",
    "            A.Normalize(\n",
    "                mean=[0.3511794, 0.37462908, 0.2873578],\n",
    "                std=[0.20823358, 0.2117826, 0.16226698],\n",
    "            ),\n",
    "            ToTensorV2(p=1.0)\n",
    "        ]\n",
    "    )"
   ],
   "metadata": {
    "collapsed": false,
    "pycharm": {
     "name": "#%%\n",
     "is_executing": true
    }
   }
  },
  {
   "cell_type": "code",
   "execution_count": null,
   "outputs": [],
   "source": [
    "# TODO: add GradCam ++\n",
    "import plotly.express as px\n",
    "\n",
    "device = torch.device('cpu')\n",
    "oof = pd.read_csv('/home/mithil/PycharmProjects/Cultivar_FGVC9/oof/tf_efficientnetv2_m_tta_oof.csv')\n",
    "oof_probability = np.load('/home/mithil/PycharmProjects/Cultivar_FGVC9/oof/tf_efficientnetv2_m_tta_oof_probablity.npy')\n",
    "oof['file_path'] = oof['image_id'].apply(\n",
    "    lambda x: return_filpath(x, folder='/home/mithil/PycharmProjects/Cultivar_FGVC9/data/archive/train'))\n",
    "images_path = oof['file_path'].values\n",
    "ids = {}\n",
    "truth_ids = []\n",
    "for i, (pred, truth, pred_int) in enumerate(zip(oof['prediction'].values, oof['cultivar'].values, oof['cultivar_int'])):\n",
    "    if pred == truth:\n",
    "        ids.update({i: oof['file_path'].values[i]})\n",
    "        truth_ids.append(truth)\n",
    "print(len(ids))\n",
    "model = BaseModelEffNet(cfg)\n",
    "model.load_state_dict(torch.load(\n",
    "    '/home/mithil/PycharmProjects/Cultivar_FGVC9/models/effnetb3_cutmix_30_epoch/tf_efficientnet_b3_ns_fold0_epoch25_accuracy_0.9837999939918518.pth',\n",
    "    map_location=device))\n",
    "model.eval()\n",
    "target_layer = search_layer(model, torch.nn.Conv2d)\n",
    "augs = get_test_transforms(512)\n",
    "print(target_layer)"
   ],
   "metadata": {
    "collapsed": false,
    "pycharm": {
     "name": "#%%\n",
     "is_executing": true
    }
   }
  },
  {
   "cell_type": "code",
   "execution_count": null,
   "metadata": {
    "pycharm": {
     "name": "#%%\n",
     "is_executing": true
    }
   },
   "outputs": [],
   "source": [
    "\n",
    "for key, values in ids.items():\n",
    "    fig = plt.figure(figsize=(10, 10))\n",
    "    ax = fig.subplots(1, 2)\n",
    "    img = cv2.imread(values)\n",
    "    img = cv2.resize(img, (512, 512))\n",
    "\n",
    "    img = cv2.cvtColor(img, cv2.COLOR_BGR2RGB)\n",
    "    images = augs(image=img)['image']\n",
    "    images = images.to(device).unsqueeze(0)\n",
    "    cam = GradCAM(model, [target_layer], use_cuda=False)\n",
    "    img_1 = img.astype(np.float32)\n",
    "\n",
    "    cam_output = cam(input_tensor=images, targets=None)\n",
    "    print(cam_output.shape)\n",
    "    img_1 -= img_1.min()\n",
    "    img_1 /= img_1.max()\n",
    "    im = show_cam_on_image(img_1, cam_output, use_rgb=True)\n",
    "\n",
    "    ax[0].imshow(img)\n",
    "    ax[0].set_title(f'Predicted: {oof[\"prediction\"].values[key]}')\n",
    "    ax[1].imshow(im)\n",
    "    ax[1].set_title(f'Truth: {oof[\"cultivar\"].values[key]}')\n",
    "    plt.show()\n",
    "    break\n"
   ]
  },
  {
   "cell_type": "code",
   "execution_count": null,
   "outputs": [],
   "source": [
    "    \"\"\"from matplotlib import cm\n",
    "\n",
    "tsne = TSNE(2, verbose=1)\n",
    "tsne_proj = tsne.fit_transform(oof_probability)\n",
    "# Plot those points as a scatter plot and label them based on the pred labels\n",
    "cmap = cm.get_cmap('tab20')\n",
    "fig, ax = plt.subplots(figsize=(8, 8))\n",
    "num_categories = 100\n",
    "for lab in range(num_categories):\n",
    "    indices = oof['cultivar_int'].values == lab\n",
    "    ax.scatter(tsne_proj[indices, 0], tsne_proj[indices, 1], c=np.array(cmap(lab)).reshape(1, 4), label=lab, alpha=0.5)\n",
    "ax.legend(fontsize='large', markerscale=2)\n",
    "plt.show()\"\"\""
   ],
   "metadata": {
    "collapsed": false,
    "pycharm": {
     "name": "#%%\n",
     "is_executing": true
    }
   }
  },
  {
   "cell_type": "code",
   "execution_count": null,
   "metadata": {
    "pycharm": {
     "name": "#%%\n",
     "is_executing": true
    }
   },
   "outputs": [],
   "source": []
  },
  {
   "cell_type": "code",
   "execution_count": null,
   "metadata": {
    "pycharm": {
     "name": "#%%\n",
     "is_executing": true
    }
   },
   "outputs": [],
   "source": []
  }
 ],
 "metadata": {
  "kernelspec": {
   "display_name": "Python 3 (ipykernel)",
   "language": "python",
   "name": "python3"
  },
  "language_info": {
   "codemirror_mode": {
    "name": "ipython",
    "version": 3
   },
   "file_extension": ".py",
   "mimetype": "text/x-python",
   "name": "python",
   "nbconvert_exporter": "python",
   "pygments_lexer": "ipython3",
   "version": "3.8.13"
  }
 },
 "nbformat": 4,
 "nbformat_minor": 1
}