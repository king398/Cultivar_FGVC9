{
 "cells": [
  {
   "cell_type": "code",
   "execution_count": null,
   "metadata": {
    "collapsed": true
   },
   "outputs": [],
   "source": [
    "import matplotlib.pyplot as plt\n",
    "import pandas as pd\n",
    "import os\n",
    "import cv2\n",
    "import numpy as np\n",
    "from pytorch_grad_cam import GradCAMPlusPlus\n",
    "from pytorch_grad_cam.utils.image import show_cam_on_image\n",
    "import torch\n",
    "import yaml\n",
    "from torch import nn\n",
    "import timm\n",
    "from albumentations.pytorch.transforms import ToTensorV2\n",
    "import albumentations as A"
   ]
  },
  {
   "cell_type": "code",
   "execution_count": null,
   "outputs": [],
   "source": [
    "# TODO: add GradCam ++\n",
    "import plotly.express as px\n",
    "\n",
    "\n",
    "def return_filpath(name, folder):\n",
    "    \"\"\"\n",
    "    This function is used to return the file path of the image.\n",
    "    :param name:\n",
    "    :param folder:\n",
    "    :return:\n",
    "    \"\"\"\n",
    "    path = os.path.join(folder, f'{name}')\n",
    "    return path\n",
    "\n",
    "\n",
    "device = torch.device('cpu')\n",
    "oof = pd.read_csv('/home/mithil/PycharmProjects/Cultivar_FGVC9/oof/tf_efficientnetv2_m_tta_oof.csv')\n",
    "oof_probability = np.load('/home/mithil/PycharmProjects/Cultivar_FGVC9/oof/tf_efficientnetv2_m_tta_oof_probablity.npy')\n",
    "oof['file_path'] = oof['image_id'].apply(\n",
    "    lambda x: return_filpath(x, folder='/home/mithil/PycharmProjects/Cultivar_FGVC9/data/archive/train'))\n",
    "images_path = oof['file_path'].values\n",
    "ids = {}\n",
    "truth_ids = []\n",
    "for i, (pred, truth, pred_int) in enumerate(zip(oof['prediction'].values, oof['cultivar'].values, oof['cultivar_int'])):\n",
    "    if pred != truth:\n",
    "        ids.update({i: oof['file_path'].values[i]})\n",
    "        truth_ids.append(truth)\n",
    "print(len(ids))\n",
    "\n",
    "\n",
    "wrong_preds_df = pd.DataFrame.from_dict(ids, orient='index')\n",
    "wrong_preds_df['cultivar'] = truth_ids\n",
    "wrong_ids = wrong_preds_df['cultivar'].value_counts().to_dict()\n",
    "print(wrong_ids)\n",
    "dict = {'x': list(wrong_ids.keys()), 'y': list(wrong_ids.values())}\n",
    "fig = px.bar(dict, x='x', y='y', title='Wrong Predictions')\n",
    "fig.show()"
   ],
   "metadata": {
    "collapsed": false,
    "pycharm": {
     "name": "#%%\n"
    }
   }
  },
  {
   "cell_type": "code",
   "execution_count": null,
   "outputs": [],
   "source": [
    "import time\n",
    "\n",
    "for key, values in ids.items():\n",
    "    fig = plt.figure(figsize=(10, 10))\n",
    "    ax = fig.subplots(1, 1)\n",
    "    img = cv2.imread(values)\n",
    "\n",
    "    ax.imshow(img)\n",
    "    ax.set_title(\n",
    "        f'Predicted: {oof[\"prediction\"].values[key]},  Truth: {oof[\"cultivar\"].values[key]}, Confidence : {np.max(oof_probability[key]):.3f}')\n",
    "\n",
    "    plt.show()\n",
    "\n",
    "    time.sleep(5)"
   ],
   "metadata": {
    "collapsed": false,
    "pycharm": {
     "name": "#%%\n"
    }
   }
  }
 ],
 "metadata": {
  "kernelspec": {
   "display_name": "Python 3",
   "language": "python",
   "name": "python3"
  },
  "language_info": {
   "codemirror_mode": {
    "name": "ipython",
    "version": 2
   },
   "file_extension": ".py",
   "mimetype": "text/x-python",
   "name": "python",
   "nbconvert_exporter": "python",
   "pygments_lexer": "ipython2",
   "version": "2.7.6"
  }
 },
 "nbformat": 4,
 "nbformat_minor": 0
}