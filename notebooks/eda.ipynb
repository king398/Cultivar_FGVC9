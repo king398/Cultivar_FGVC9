{
 "cells": [
  {
   "cell_type": "code",
   "execution_count": 29,
   "metadata": {
    "collapsed": true
   },
   "outputs": [
    {
     "name": "stdout",
     "output_type": "stream",
     "text": [
      "Using matplotlib backend: QtAgg\n",
      "[78 67 90 ... 92 21 48]\n",
      "10\n",
      "1\n"
     ]
    }
   ],
   "source": [
    "%matplotlib\n",
    "import matplotlib.pyplot as plt\n",
    "import pandas as pd\n",
    "import os\n",
    "import cv2\n",
    "import numpy as np\n",
    "\n",
    "def return_filpath(name, folder):\n",
    "    path = os.path.join(folder, f'{name}')\n",
    "    return path\n",
    "\n",
    "\n",
    "oof = pd.read_csv('/home/mithil/PycharmProjects/Cultivar_FGVC9/oof/effnetb3_cutmix_30_epoch_tta_oof.csv')\n",
    "oof_probability = np.load('/home/mithil/PycharmProjects/Cultivar_FGVC9/oof/effnetb3_cutmix_30_epoch_tta_probablity.npy')\n",
    "print(oof_probability)\n",
    "oof['file_path'] = oof['image_id'].apply(\n",
    "    lambda x: return_filpath(x, folder='/home/mithil/PycharmProjects/Cultivar_FGVC9/data/archive/train'))\n",
    "images_path = oof['file_path'].values\n",
    "ids = {}\n",
    "for i, (pred, truth) in enumerate(zip(oof['prediction'].values, oof['cultivar'].values)):\n",
    "    if pred != truth :\n",
    "        ids.update({i: oof['file_path'].values[i]})\n",
    "        print(oof_probability[i])\n",
    "        break\n",
    "print(len(ids))\n",
    "for key,values in ids.items():\n",
    "    fig = plt.figure(figsize=(10, 10))\n",
    "    ax = fig.subplots(1, 2)\n",
    "    img = cv2.imread(values)\n",
    "    ax[0].imshow(img)\n",
    "    ax[0].set_title(f'Predicted: {oof[\"prediction\"].values[key]}')\n",
    "    ax[1].imshow(img)\n",
    "    ax[1].set_title(f'Truth: {oof[\"cultivar\"].values[key]}')\n",
    "    break"
   ]
  },
  {
   "cell_type": "code",
   "execution_count": null,
   "outputs": [],
   "source": [],
   "metadata": {
    "collapsed": false,
    "pycharm": {
     "name": "#%%\n"
    }
   }
  },
  {
   "cell_type": "code",
   "execution_count": null,
   "outputs": [],
   "source": [],
   "metadata": {
    "collapsed": false,
    "pycharm": {
     "name": "#%%\n"
    }
   }
  }
 ],
 "metadata": {
  "kernelspec": {
   "display_name": "Python 3",
   "language": "python",
   "name": "python3"
  },
  "language_info": {
   "codemirror_mode": {
    "name": "ipython",
    "version": 2
   },
   "file_extension": ".py",
   "mimetype": "text/x-python",
   "name": "python",
   "nbconvert_exporter": "python",
   "pygments_lexer": "ipython2",
   "version": "2.7.6"
  }
 },
 "nbformat": 4,
 "nbformat_minor": 0
}