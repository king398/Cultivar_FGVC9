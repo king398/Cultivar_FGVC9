{
 "cells": [
  {
   "cell_type": "code",
   "execution_count": 2,
   "metadata": {
    "collapsed": true
   },
   "outputs": [
    {
     "name": "stdout",
     "output_type": "stream",
     "text": [
      "Using matplotlib backend: QtAgg\n",
      "(80, 100)\n"
     ]
    },
    {
     "ename": "IndexError",
     "evalue": "index 462 is out of bounds for axis 0 with size 80",
     "output_type": "error",
     "traceback": [
      "\u001B[0;31m---------------------------------------------------------------------------\u001B[0m",
      "\u001B[0;31mIndexError\u001B[0m                                Traceback (most recent call last)",
      "Input \u001B[0;32mIn [2]\u001B[0m, in \u001B[0;36m<cell line: 20>\u001B[0;34m()\u001B[0m\n\u001B[1;32m     19\u001B[0m ids \u001B[38;5;241m=\u001B[39m {}\n\u001B[1;32m     20\u001B[0m \u001B[38;5;28;01mfor\u001B[39;00m i, (pred, truth,pred_int) \u001B[38;5;129;01min\u001B[39;00m \u001B[38;5;28menumerate\u001B[39m(\u001B[38;5;28mzip\u001B[39m(oof[\u001B[38;5;124m'\u001B[39m\u001B[38;5;124mprediction\u001B[39m\u001B[38;5;124m'\u001B[39m]\u001B[38;5;241m.\u001B[39mvalues, oof[\u001B[38;5;124m'\u001B[39m\u001B[38;5;124mcultivar\u001B[39m\u001B[38;5;124m'\u001B[39m]\u001B[38;5;241m.\u001B[39mvalues,oof[\u001B[38;5;124m'\u001B[39m\u001B[38;5;124mcultivar_int\u001B[39m\u001B[38;5;124m'\u001B[39m])):\n\u001B[0;32m---> 21\u001B[0m     \u001B[38;5;28;01mif\u001B[39;00m pred \u001B[38;5;241m!=\u001B[39m truth \u001B[38;5;129;01mand\u001B[39;00m \u001B[43moof_probability\u001B[49m\u001B[43m[\u001B[49m\u001B[43mi\u001B[49m\u001B[43m,\u001B[49m\u001B[43m \u001B[49m\u001B[43mpred_int\u001B[49m\u001B[43m]\u001B[49m \u001B[38;5;241m>\u001B[39m \u001B[38;5;241m0.8\u001B[39m:\n\u001B[1;32m     22\u001B[0m         ids\u001B[38;5;241m.\u001B[39mupdate({i: oof[\u001B[38;5;124m'\u001B[39m\u001B[38;5;124mfile_path\u001B[39m\u001B[38;5;124m'\u001B[39m]\u001B[38;5;241m.\u001B[39mvalues[i]})\n\u001B[1;32m     23\u001B[0m         \u001B[38;5;28;01mbreak\u001B[39;00m\n",
      "\u001B[0;31mIndexError\u001B[0m: index 462 is out of bounds for axis 0 with size 80"
     ]
    }
   ],
   "source": [
    "%matplotlib\n",
    "import matplotlib.pyplot as plt\n",
    "import pandas as pd\n",
    "import os\n",
    "import cv2\n",
    "import numpy as np\n",
    "\n",
    "def return_filpath(name, folder):\n",
    "    # TODO :\n",
    "    path = os.path.join(folder, f'{name}')\n",
    "    return path\n",
    "\n",
    "\n",
    "oof = pd.read_csv('/home/mithil/PycharmProjects/Cultivar_FGVC9/oof/tf_efficientnetv2_m_tta_oof.csv')\n",
    "oof_probability = np.load('/home/mithil/PycharmProjects/Cultivar_FGVC9/oof/tf_efficientnetv2_m_tta_oof_probablity.npy')\n",
    "print(oof_probability.shape)\n",
    "oof['file_path'] = oof['image_id'].apply(\n",
    "    lambda x: return_filpath(x, folder='/home/mithil/PycharmProjects/Cultivar_FGVC9/data/archive/train'))\n",
    "images_path = oof['file_path'].values\n",
    "ids = {}\n",
    "for i, (pred, truth,pred_int) in enumerate(zip(oof['prediction'].values, oof['cultivar'].values,oof['cultivar_int'])):\n",
    "    if pred != truth and oof_probability[i, pred_int] > 0.8:\n",
    "        ids.update({i: oof['file_path'].values[i]})\n",
    "        break\n",
    "print(len(ids))\n",
    "for key,values in ids.items():\n",
    "    fig = plt.figure(figsize=(10, 10))\n",
    "    ax = fig.subplots(1, 2)\n",
    "    img = cv2.imread(values)\n",
    "    ax[0].imshow(img)\n",
    "    ax[0].set_title(f'Predicted: {oof[\"prediction\"].values[key]}')\n",
    "    ax[1].imshow(img)\n",
    "    ax[1].set_title(f'Truth: {oof[\"cultivar\"].values[key]}')\n",
    "    break"
   ]
  },
  {
   "cell_type": "code",
   "execution_count": null,
   "outputs": [],
   "source": [],
   "metadata": {
    "collapsed": false,
    "pycharm": {
     "name": "#%%\n"
    }
   }
  },
  {
   "cell_type": "code",
   "execution_count": null,
   "outputs": [],
   "source": [],
   "metadata": {
    "collapsed": false,
    "pycharm": {
     "name": "#%%\n"
    }
   }
  }
 ],
 "metadata": {
  "kernelspec": {
   "display_name": "Python 3",
   "language": "python",
   "name": "python3"
  },
  "language_info": {
   "codemirror_mode": {
    "name": "ipython",
    "version": 2
   },
   "file_extension": ".py",
   "mimetype": "text/x-python",
   "name": "python",
   "nbconvert_exporter": "python",
   "pygments_lexer": "ipython2",
   "version": "2.7.6"
  }
 },
 "nbformat": 4,
 "nbformat_minor": 0
}