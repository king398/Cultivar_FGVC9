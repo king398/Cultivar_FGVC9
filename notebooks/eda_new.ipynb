{
 "cells": [
  {
   "cell_type": "code",
   "execution_count": null,
   "metadata": {
    "collapsed": true,
    "pycharm": {
     "name": "#%%\n"
    }
   },
   "outputs": [],
   "source": [
    "% matplotlib\n",
    "import matplotlib.pyplot as plt\n",
    "import pandas as pd\n",
    "import os\n",
    "import cv2\n",
    "import numpy as np\n",
    "\n",
    "\n",
    "def return_filpath(name, folder):\n",
    "    path = os.path.join(folder, f'{name}')\n",
    "    return path\n",
    "\n",
    "\n",
    "# TODO: add GradCam ++\n",
    "oof = pd.read_csv('/home/mithil/PycharmProjects/Cultivar_FGVC9/oof/tf_efficientnetv2_m_tta_oof.csv')\n",
    "oof_probability = np.load('/home/mithil/PycharmProjects/Cultivar_FGVC9/oof/tf_efficientnetv2_m_tta_oof_probablity.npy')\n",
    "print(oof_probability.shape)\n",
    "oof['file_path'] = oof['image_id'].apply(\n",
    "    lambda x: return_filpath(x, folder='/home/mithil/PycharmProjects/Cultivar_FGVC9/data/archive/train'))\n",
    "images_path = oof['file_path'].values\n",
    "ids = {}\n",
    "for i, (pred, truth, pred_int) in enumerate(zip(oof['prediction'].values, oof['cultivar'].values, oof['cultivar_int'])):\n",
    "    if pred != truth and oof_probability[i, pred_int] > 0.5:\n",
    "        ids.update({i: oof['file_path'].values[i]})\n",
    "print(len(ids))\n",
    "for key, values in ids.items():\n",
    "    fig = plt.figure(figsize=(10, 10))\n",
    "    ax = fig.subplots(1, 2)\n",
    "    img = cv2.imread(values)\n",
    "    ax[0].imshow(img)\n",
    "    ax[0].set_title(f'Predicted: {oof[\"prediction\"].values[key]}')\n",
    "    ax[1].imshow(img)\n",
    "    ax[1].set_title(f'Truth: {oof[\"cultivar\"].values[key]}')\n",
    "    break"
   ]
  },
  {
   "cell_type": "code",
   "execution_count": null,
   "outputs": [],
   "source": [
    "from sklearn.manifold import TSNE\n",
    "from matplotlib import cm\n",
    "tsne = TSNE(2, verbose=1)\n",
    "tsne_proj = tsne.fit_transform(oof_probability)\n",
    "# Plot those points as a scatter plot and label them based on the pred labels\n",
    "cmap = cm.get_cmap('tab20')\n",
    "fig, ax = plt.subplots(figsize=(8,8))\n",
    "num_categories = 100\n",
    "for lab in range(num_categories):\n",
    "    indices = oof['']==lab\n",
    "    ax.scatter(tsne_proj[indices,0],tsne_proj[indices,1], c=np.array(cmap(lab)).reshape(1,4), label = lab ,alpha=0.5)\n",
    "ax.legend(fontsize='large', markerscale=2)\n",
    "plt.show"
   ],
   "metadata": {
    "collapsed": false,
    "pycharm": {
     "name": "#%%\n"
    }
   }
  }
 ],
 "metadata": {
  "kernelspec": {
   "display_name": "Python 3",
   "language": "python",
   "name": "python3"
  },
  "language_info": {
   "codemirror_mode": {
    "name": "ipython",
    "version": 2
   },
   "file_extension": ".py",
   "mimetype": "text/x-python",
   "name": "python",
   "nbconvert_exporter": "python",
   "pygments_lexer": "ipython2",
   "version": "2.7.6"
  }
 },
 "nbformat": 4,
 "nbformat_minor": 0
}